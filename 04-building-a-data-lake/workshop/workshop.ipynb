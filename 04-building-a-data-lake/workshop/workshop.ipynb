{
 "cells": [
  {
   "cell_type": "markdown",
   "id": "e134d351-6667-4bba-9a9e-e89970c40cfb",
   "metadata": {},
   "source": [
    "# Breakfast at the Frat: A Time Series Analysis\n",
    "\n",
    "Sales and promotion information on the top five products from each of the top three brands within four selected categories (mouthwash, pretzels, frozen pizza, and boxed cereal), gathered from a sample of stores over 156 weeks.\n",
    "\n",
    "- Unit sales, households, visits, and spend data by product, store, and week\n",
    "- Base Price and Actual Shelf Price, to determine a product’s discount, if any\n",
    "- Promotional support details (e.g., sale tag, in-store display), if applicable for the given product/store/week\n",
    "- Store information, including size and location, as well as a price tier designation (e.g., upscale vs. value)\n",
    "- Product information, including UPC, size, and description\n",
    "\n",
    "To identify outliers, it is suggested to look at\n",
    "\n",
    "- The ratio of units vs. number of visits\n",
    "- The ratio of visits vs. number of households\n",
    "- Some items that may be out-of-stock or discontinued for a store\n",
    "\n",
    "**Source:** https://www.dunnhumby.com/source-files/"
   ]
  },
  {
   "cell_type": "code",
   "execution_count": 2,
   "id": "b796ca6e-ac95-406d-91fe-1383419620d1",
   "metadata": {},
   "outputs": [],
   "source": [
    "from pyspark.sql import Row, SparkSession"
   ]
  },
  {
   "cell_type": "code",
   "execution_count": 3,
   "id": "268e7e7b-7431-43c0-9b6f-1d50e758b00e",
   "metadata": {},
   "outputs": [],
   "source": [
    "spark = SparkSession.builder \\\n",
    "    .appName(\"breakfast\") \\\n",
    "    .getOrCreate()"
   ]
  },
  {
   "cell_type": "code",
   "execution_count": 4,
   "id": "d66c43ba-edd2-486b-92b4-8a8b1ae3bd7e",
   "metadata": {},
   "outputs": [],
   "source": [
    "product_data_folder = \"dataset/products\"\n",
    "store_data_folder = \"dataset/stores\"\n",
    "transaction_data_folder = \"dataset/transactions\""
   ]
  },
  {
   "cell_type": "markdown",
   "id": "14f9105f-ff68-4a3e-a3a6-3f71fef1ce0b",
   "metadata": {},
   "source": [
    "### Perform ETL to Answer the Following Questions\n",
    "\n",
    "1. What is the range of prices offered on products?\n",
    "1. What is the impact on units/visit of promotions by geographies?\n",
    "1. Which products would you lower the price to increase sales?"
   ]
  },
  {
   "cell_type": "code",
   "execution_count": 5,
   "id": "a5318f01-6ecc-4222-87d1-1198958f8e5e",
   "metadata": {},
   "outputs": [],
   "source": [
    "product_df = spark.read.option(\"header\", True).csv(product_data_folder)"
   ]
  },
  {
   "cell_type": "code",
   "execution_count": 6,
   "id": "10f691e6-fa32-4718-bc97-dc41d9d75cc3",
   "metadata": {},
   "outputs": [],
   "source": [
    "transaction_df = spark.read.option(\"header\", True).csv(transaction_data_folder)"
   ]
  },
  {
   "cell_type": "code",
   "execution_count": 12,
   "id": "f80f42e9-cc7f-47b9-9313-8520a2407482",
   "metadata": {},
   "outputs": [],
   "source": [
    "store_df = spark.read.option(\"header\", True).csv(store_data_folder)"
   ]
  },
  {
   "cell_type": "code",
   "execution_count": 17,
   "id": "37e5f28d-29f3-4902-bdf8-27668e5f632f",
   "metadata": {},
   "outputs": [
    {
     "name": "stdout",
     "output_type": "stream",
     "text": [
      "+----------+--------------------+-------------+--------------------+--------------------+------------+\n",
      "|       UPC|         DESCRIPTION| MANUFACTURER|            CATEGORY|        SUB_CATEGORY|PRODUCT_SIZE|\n",
      "+----------+--------------------+-------------+--------------------+--------------------+------------+\n",
      "|1111009477|PL MINI TWIST PRE...|PRIVATE LABEL|          BAG SNACKS|            PRETZELS|       15 OZ|\n",
      "|1111009497|   PL PRETZEL STICKS|PRIVATE LABEL|          BAG SNACKS|            PRETZELS|       15 OZ|\n",
      "|1111009507|   PL TWIST PRETZELS|PRIVATE LABEL|          BAG SNACKS|            PRETZELS|       15 OZ|\n",
      "|1111035398|PL BL MINT ANTSPT...|PRIVATE LABEL|ORAL HYGIENE PROD...|MOUTHWASHES (ANTI...|      1.5 LT|\n",
      "|1111038078|PL BL MINT ANTSPT...|PRIVATE LABEL|ORAL HYGIENE PROD...|MOUTHWASHES (ANTI...|      500 ML|\n",
      "+----------+--------------------+-------------+--------------------+--------------------+------------+\n",
      "only showing top 5 rows\n",
      "\n"
     ]
    }
   ],
   "source": [
    "product_df.show(5)"
   ]
  },
  {
   "cell_type": "code",
   "execution_count": 16,
   "id": "8a0d6c7d-3406-49c9-8ca2-63d6d6a39280",
   "metadata": {},
   "outputs": [
    {
     "name": "stdout",
     "output_type": "stream",
     "text": [
      "+-------------+---------+----------+-----+------+---+-----+-----+----------+-------+-------+--------+\n",
      "|WEEK_END_DATE|STORE_NUM|       UPC|UNITS|VISITS|HHS|SPEND|PRICE|BASE_PRICE|FEATURE|DISPLAY|TPR_ONLY|\n",
      "+-------------+---------+----------+-----+------+---+-----+-----+----------+-------+-------+--------+\n",
      "|    14-Jan-09|      367|1111009477|   13|    13| 13|18.07| 1.39|      1.57|      0|      0|       1|\n",
      "|    14-Jan-09|      367|1111009497|   20|    18| 18| 27.8| 1.39|      1.39|      0|      0|       0|\n",
      "|    14-Jan-09|      367|1111009507|   14|    14| 14|19.32| 1.38|      1.38|      0|      0|       0|\n",
      "|    14-Jan-09|      367|1111035398|    4|     3|  3|   14|  3.5|      4.49|      0|      0|       1|\n",
      "|    14-Jan-09|      367|1111038078|    3|     3|  3|  7.5|  2.5|       2.5|      0|      0|       0|\n",
      "|    14-Jan-09|      367|1111038080|    2|     2|  2| 5.18| 2.59|      2.59|      0|      0|       0|\n",
      "|    14-Jan-09|      367|1111085319|   14|    13| 13|26.32| 1.88|      1.88|      0|      0|       0|\n",
      "|    14-Jan-09|      367|1111085345|   29|    26| 25|54.52| 1.88|      1.88|      0|      0|       0|\n",
      "|    14-Jan-09|      367|1111085350|   35|    27| 25| 69.3| 1.98|      1.98|      0|      0|       0|\n",
      "|    14-Jan-09|      367|1111087395|   50|    40| 40|  168| 3.36|      3.94|      0|      1|       0|\n",
      "+-------------+---------+----------+-----+------+---+-----+-----+----------+-------+-------+--------+\n",
      "only showing top 10 rows\n",
      "\n"
     ]
    }
   ],
   "source": [
    "transaction_df.show(10)"
   ]
  },
  {
   "cell_type": "code",
   "execution_count": 47,
   "id": "d22d7fc9-51a9-4c04-9790-4fa809165006",
   "metadata": {},
   "outputs": [
    {
     "name": "stdout",
     "output_type": "stream",
     "text": [
      "+--------+------------------+-----------------+-----------------------+--------+--------------+-----------------+-------------------+------------------+\n",
      "|STORE_ID|        STORE_NAME|ADDRESS_CITY_NAME|ADDRESS_STATE_PROV_CODE|MSA_CODE|SEG_VALUE_NAME|PARKING_SPACE_QTY|SALES_AREA_SIZE_NUM|AVG_WEEKLY_BASKETS|\n",
      "+--------+------------------+-----------------+-----------------------+--------+--------------+-----------------+-------------------+------------------+\n",
      "|     389|        SILVERLAKE|         ERLANGER|                     KY|   17140|    MAINSTREAM|              408|              46073|             24767|\n",
      "|    2277|ANDERSON TOWNE CTR|       CINCINNATI|                     OH|   17140|       UPSCALE|             null|              81958|             54053|\n",
      "|    4259|     WARSAW AVENUE|       CINCINNATI|                     OH|   17140|         VALUE|             null|              48813|             31177|\n",
      "|    6379|          KINGWOOD|         KINGWOOD|                     TX|   26420|    MAINSTREAM|             null|              50237|             20620|\n",
      "|    6431|      AT WARD ROAD|          BAYTOWN|                     TX|   26420|         VALUE|              350|              43698|             24322|\n",
      "+--------+------------------+-----------------+-----------------------+--------+--------------+-----------------+-------------------+------------------+\n",
      "only showing top 5 rows\n",
      "\n"
     ]
    }
   ],
   "source": [
    "store_df.show(5)"
   ]
  },
  {
   "cell_type": "code",
   "execution_count": 53,
   "id": "eba0e513-eb42-426b-9f64-b84af04b4cad",
   "metadata": {},
   "outputs": [
    {
     "name": "stdout",
     "output_type": "stream",
     "text": [
      "+--------+------------+-----------------+-----------------------+--------+--------------+-----------------+-------------------+------------------+\n",
      "|STORE_ID|  STORE_NAME|ADDRESS_CITY_NAME|ADDRESS_STATE_PROV_CODE|MSA_CODE|SEG_VALUE_NAME|PARKING_SPACE_QTY|SALES_AREA_SIZE_NUM|AVG_WEEKLY_BASKETS|\n",
      "+--------+------------+-----------------+-----------------------+--------+--------------+-----------------+-------------------+------------------+\n",
      "|    4245|LAWRENCEBURG|     LAWRENCEBURG|                     IN|   17140|    MAINSTREAM|             null|              58563|             19275|\n",
      "+--------+------------+-----------------+-----------------------+--------+--------------+-----------------+-------------------+------------------+\n",
      "\n"
     ]
    }
   ],
   "source": [
    "store_df.filter(store_df[\"ADDRESS_STATE_PROV_CODE\"] == \"IN\").show()"
   ]
  },
  {
   "cell_type": "code",
   "execution_count": 13,
   "id": "a6244b47-3c76-4178-b76e-a2797d3eff6d",
   "metadata": {},
   "outputs": [],
   "source": [
    "product_df.createOrReplaceTempView(\"products\")\n",
    "store_df.createOrReplaceTempView(\"stores\")\n",
    "transaction_df.createOrReplaceTempView(\"transactions\")"
   ]
  },
  {
   "cell_type": "code",
   "execution_count": 8,
   "id": "7d5ec70f-6680-4f5d-830f-511dfe0acc7c",
   "metadata": {},
   "outputs": [],
   "source": [
    "df = spark.sql(\"\"\"\n",
    "    select\n",
    "        *\n",
    "        \n",
    "    from transactions\n",
    "    join products\n",
    "    on \n",
    "        transactions.upc = products.upc\n",
    "\"\"\")"
   ]
  },
  {
   "cell_type": "code",
   "execution_count": 9,
   "id": "d55ec9c8-8ac4-49b1-9855-dd58b48b74c4",
   "metadata": {},
   "outputs": [
    {
     "name": "stdout",
     "output_type": "stream",
     "text": [
      "+-------------+---------+----------+-----+------+---+-----+-----+----------+-------+-------+--------+----------+--------------------+-------------+----------+------------+------------+\n",
      "|WEEK_END_DATE|STORE_NUM|       UPC|UNITS|VISITS|HHS|SPEND|PRICE|BASE_PRICE|FEATURE|DISPLAY|TPR_ONLY|       UPC|         DESCRIPTION| MANUFACTURER|  CATEGORY|SUB_CATEGORY|PRODUCT_SIZE|\n",
      "+-------------+---------+----------+-----+------+---+-----+-----+----------+-------+-------+--------+----------+--------------------+-------------+----------+------------+------------+\n",
      "|    14-Jan-09|      367|1111009477|   13|    13| 13|18.07| 1.39|      1.57|      0|      0|       1|1111009477|PL MINI TWIST PRE...|PRIVATE LABEL|BAG SNACKS|    PRETZELS|       15 OZ|\n",
      "+-------------+---------+----------+-----+------+---+-----+-----+----------+-------+-------+--------+----------+--------------------+-------------+----------+------------+------------+\n",
      "only showing top 1 row\n",
      "\n"
     ]
    }
   ],
   "source": [
    "df.show(1)"
   ]
  },
  {
   "cell_type": "markdown",
   "id": "a2ea8e9c-846a-4973-bc18-3084f57f76ce",
   "metadata": {},
   "source": [
    "## What is the range of prices offered on products?\n"
   ]
  },
  {
   "cell_type": "code",
   "execution_count": 11,
   "id": "b7ba1dd7-e7c2-40e8-981c-a8ecf0ee0124",
   "metadata": {},
   "outputs": [
    {
     "name": "stdout",
     "output_type": "stream",
     "text": [
      "+----------+----------+----------+--------------------+----------+\n",
      "|       upc|min(price)|max(price)|         description|  category|\n",
      "+----------+----------+----------+--------------------+----------+\n",
      "|1111009477|      0.89|      1.83|PL MINI TWIST PRE...|BAG SNACKS|\n",
      "|1111009497|      0.86|      1.69|   PL PRETZEL STICKS|BAG SNACKS|\n",
      "|1111009507|       0.8|      1.69|   PL TWIST PRETZELS|BAG SNACKS|\n",
      "+----------+----------+----------+--------------------+----------+\n",
      "only showing top 3 rows\n",
      "\n"
     ]
    }
   ],
   "source": [
    "spark.sql(\"\"\"\n",
    "    select\n",
    "        products.upc\n",
    "        , min(price)\n",
    "        , max(price)\n",
    "        , description\n",
    "        , category\n",
    "        \n",
    "    from transactions\n",
    "    join products\n",
    "    on \n",
    "        transactions.upc = products.upc\n",
    "    group by\n",
    "        1, 4, 5\n",
    "\"\"\").show(3)"
   ]
  },
  {
   "cell_type": "code",
   "execution_count": 10,
   "id": "11c139d7-0a42-4541-a282-77e918dcb0ea",
   "metadata": {},
   "outputs": [
    {
     "name": "stdout",
     "output_type": "stream",
     "text": [
      "+----------+------------+-----+----+------+\n",
      "|       upc|product_size|value|unit| is_oz|\n",
      "+----------+------------+-----+----+------+\n",
      "|1111009477|       15 OZ|   15|  OZ|1500.0|\n",
      "|1111009497|       15 OZ|   15|  OZ|1500.0|\n",
      "|1111009507|       15 OZ|   15|  OZ|1500.0|\n",
      "|1111035398|      1.5 LT|  1.5|  LT| 0.015|\n",
      "|1111038078|      500 ML|  500|  ML|   5.0|\n",
      "+----------+------------+-----+----+------+\n",
      "only showing top 5 rows\n",
      "\n"
     ]
    }
   ],
   "source": [
    "spark.sql(\"\"\"\n",
    "    select\n",
    "        upc\n",
    "        , product_size\n",
    "        , split(product_size, ' ')[0] as value\n",
    "        , split(product_size, ' ')[1] as unit\n",
    "        , case\n",
    "            when split(product_size, ' ')[1] = 'OZ' then split(product_size, ' ')[0] * 100\n",
    "            else\n",
    "                split(product_size, ' ')[0] / 100\n",
    "            end as is_oz\n",
    "        \n",
    "    from products\n",
    "\"\"\").show(5)"
   ]
  },
  {
   "cell_type": "markdown",
   "id": "832da031-e9a8-4fbf-8dae-083eb74984dc",
   "metadata": {},
   "source": [
    "## What is the impact on units/visit of promotions by geographies?"
   ]
  },
  {
   "cell_type": "code",
   "execution_count": 38,
   "id": "c1212e25-7157-4b6a-8aaa-f1b2b990a5d4",
   "metadata": {},
   "outputs": [
    {
     "name": "stdout",
     "output_type": "stream",
     "text": [
      "+-------+------------------+-----------------------+\n",
      "|is_sale|         buy_per_p|ADDRESS_STATE_PROV_CODE|\n",
      "+-------+------------------+-----------------------+\n",
      "|      1|               1.0|                     KY|\n",
      "|      1|1.3333333333333333|                     KY|\n",
      "|      1|              1.25|                     KY|\n",
      "|      1|1.4186046511627908|                     KY|\n",
      "|      1|1.3846153846153846|                     KY|\n",
      "+-------+------------------+-----------------------+\n",
      "only showing top 5 rows\n",
      "\n"
     ]
    }
   ],
   "source": [
    "spark.sql(\"\"\"\n",
    "    select\n",
    "        -- transactions.upc\n",
    "        -- , transactions.STORE_NUM\n",
    "        -- , price\n",
    "        -- , base_price\n",
    "        case \n",
    "            when (base_price - price) > 0  then 1 \n",
    "            else \n",
    "                0\n",
    "            end as is_sale\n",
    "        -- , units\n",
    "        -- , visits\n",
    "        , units/visits as buy_per_p\n",
    "        \n",
    "        , ADDRESS_STATE_PROV_CODE\n",
    "        \n",
    "        \n",
    "    from transactions\n",
    "    join stores\n",
    "    on \n",
    "        transactions.STORE_NUM = stores.STORE_ID\n",
    "    where (base_price - price) > 0\n",
    "\n",
    "    \n",
    "\"\"\").show(5)"
   ]
  },
  {
   "cell_type": "code",
   "execution_count": 41,
   "id": "1bffd30d-ee90-4d8a-980e-4b7915846815",
   "metadata": {},
   "outputs": [
    {
     "name": "stdout",
     "output_type": "stream",
     "text": [
      "+------------------+-----------------------+\n",
      "|         buy_per_p|ADDRESS_STATE_PROV_CODE|\n",
      "+------------------+-----------------------+\n",
      "|1.1834336090000266|                     KY|\n",
      "|1.1928337487593017|                     IN|\n",
      "|1.1898599127461706|                     OH|\n",
      "|1.1523177900229677|                     TX|\n",
      "+------------------+-----------------------+\n",
      "\n"
     ]
    }
   ],
   "source": [
    "spark.sql(\"\"\"\n",
    "    select        \n",
    "           \n",
    "        AVG(units/visits) as buy_per_p        \n",
    "        , ADDRESS_STATE_PROV_CODE        \n",
    "        \n",
    "    from transactions\n",
    "    join stores\n",
    "    on \n",
    "        transactions.STORE_NUM = stores.STORE_ID\n",
    "    where (base_price - price) > 0\n",
    "    group by\n",
    "        ADDRESS_STATE_PROV_CODE\n",
    "\n",
    "    \n",
    "\"\"\").show(5)"
   ]
  },
  {
   "cell_type": "markdown",
   "id": "156284cc-9fbd-4efe-babe-b70b13ee4b52",
   "metadata": {},
   "source": [
    "### from result above the sale item (promotion) in each STATE_PROV the best impact of promotion is \"IN\"  \n",
    "#### Indiana state have more impact with promotion "
   ]
  },
  {
   "cell_type": "markdown",
   "id": "5b28af01-e84b-4dbb-a373-5f1969b14aed",
   "metadata": {},
   "source": [
    "## Which products would you lower the price to increase sales?"
   ]
  },
  {
   "cell_type": "code",
   "execution_count": 59,
   "id": "353a1c52-d7e5-4b9c-8141-7b562633eb6c",
   "metadata": {},
   "outputs": [
    {
     "name": "stdout",
     "output_type": "stream",
     "text": [
      "+--------------------+------------------+\n",
      "|            CATEGORY|         buy_per_p|\n",
      "+--------------------+------------------+\n",
      "|         COLD CEREAL| 1.168127166132834|\n",
      "|        FROZEN PIZZA|1.1645997816954927|\n",
      "|ORAL HYGIENE PROD...| 1.121139647543165|\n",
      "|          BAG SNACKS|1.2368985083204926|\n",
      "+--------------------+------------------+\n",
      "\n"
     ]
    }
   ],
   "source": [
    "spark.sql(\"\"\"\n",
    "    select\n",
    "       \n",
    "        CATEGORY\n",
    "        -- , sub_CATEGORY\n",
    "        , AVG(units/visits) as buy_per_p\n",
    "        -- , SPEND\n",
    "        \n",
    "    from transactions\n",
    "    join products\n",
    "    on \n",
    "        transactions.upc = products.upc\n",
    "    where (base_price - price) > 0\n",
    "    group by\n",
    "        CATEGORY\n",
    "\n",
    "    \n",
    "\"\"\").show(15)"
   ]
  },
  {
   "cell_type": "markdown",
   "id": "7f959edf-1a44-43c7-acb0-5e114b1efa20",
   "metadata": {},
   "source": [
    "### from result above, lower the price of \"BAG SNACKS\" can increase average unit sales per visit  \n",
    "#### a person buy 1.237 unit per visit"
   ]
  },
  {
   "cell_type": "code",
   "execution_count": null,
   "id": "59c644cd-ee2c-481e-9ecf-14c1c887e33d",
   "metadata": {},
   "outputs": [],
   "source": []
  }
 ],
 "metadata": {
  "kernelspec": {
   "display_name": "Python 3.8.5 ('base')",
   "language": "python",
   "name": "python3"
  },
  "language_info": {
   "codemirror_mode": {
    "name": "ipython",
    "version": 3
   },
   "file_extension": ".py",
   "mimetype": "text/x-python",
   "name": "python",
   "nbconvert_exporter": "python",
   "pygments_lexer": "ipython3",
   "version": "3.8.5"
  },
  "vscode": {
   "interpreter": {
    "hash": "c80e916075a2b82094dca76813fb3e5fb73aa0d1a7cce80c36ca9677ad6ba624"
   }
  }
 },
 "nbformat": 4,
 "nbformat_minor": 5
}
