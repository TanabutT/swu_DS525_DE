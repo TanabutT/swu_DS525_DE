{
 "cells": [
  {
   "cell_type": "code",
   "execution_count": 1,
   "metadata": {},
   "outputs": [],
   "source": [
    "import json"
   ]
  },
  {
   "cell_type": "code",
   "execution_count": 2,
   "metadata": {},
   "outputs": [],
   "source": [
    "def jsonopendetail(jsonpath):\n",
    "    \"\"\" open json wiht python json and give detail of json for table design later for postgresDB\n",
    "\n",
    "    (Arg.) jsonpath : file path of json file\n",
    "    (return) : none\n",
    "            just print of detail of json file keys  and lenght of json object , json array\n",
    "    \n",
    "    \"\"\"\n",
    "    with open(jsonpath) as f:\n",
    "        data = json.load(f)\n",
    "    print('array of json object length : ',len(data))\n",
    "    print('1st json object length : ', len(data[0]))\n",
    "    print('1st json object data type : ',type(data[0]))\n",
    "    print('keys in 1st json object : ', data[0].keys())\n",
    "    # for i in data[0].keys():\n",
    "        \n"
   ]
  },
  {
   "cell_type": "code",
   "execution_count": 3,
   "metadata": {},
   "outputs": [
    {
     "name": "stdout",
     "output_type": "stream",
     "text": [
      "array of json object length :  30\n",
      "1st json object length :  8\n",
      "1st json object data type :  <class 'dict'>\n",
      "keys in 1st json object :  dict_keys(['id', 'type', 'actor', 'repo', 'payload', 'public', 'created_at', 'org'])\n"
     ]
    }
   ],
   "source": [
    "jsonopendetail('C:/Users/t_tan\\Documents/GitHub/DATA_ENGINEER/data/github_events_01.json')"
   ]
  },
  {
   "cell_type": "code",
   "execution_count": 4,
   "metadata": {},
   "outputs": [
    {
     "name": "stdout",
     "output_type": "stream",
     "text": [
      "array of json object length :  30\n",
      "1st json object length :  8\n",
      "1st json object data type :  <class 'dict'>\n",
      "keys in 1st json object :  dict_keys(['id', 'type', 'actor', 'repo', 'payload', 'public', 'created_at', 'org'])\n"
     ]
    }
   ],
   "source": [
    "jsonopendetail('C:/Users/t_tan\\Documents/GitHub/DATA_ENGINEER/data/github_events_02.json')"
   ]
  },
  {
   "cell_type": "code",
   "execution_count": 5,
   "metadata": {},
   "outputs": [
    {
     "name": "stdout",
     "output_type": "stream",
     "text": [
      "array of json object length :  30\n",
      "1st json object length :  7\n",
      "1st json object data type :  <class 'dict'>\n",
      "keys in 1st json object :  dict_keys(['id', 'type', 'actor', 'repo', 'payload', 'public', 'created_at'])\n"
     ]
    }
   ],
   "source": [
    "jsonopendetail('C:/Users/t_tan\\Documents/GitHub/DATA_ENGINEER/data/github_events_03.json')"
   ]
  },
  {
   "cell_type": "code",
   "execution_count": 6,
   "metadata": {},
   "outputs": [
    {
     "name": "stdout",
     "output_type": "stream",
     "text": [
      "array of json object length :  30\n",
      "1st json object length :  7\n",
      "1st json object data type :  <class 'dict'>\n",
      "keys in 1st json object :  dict_keys(['id', 'type', 'actor', 'repo', 'payload', 'public', 'created_at'])\n"
     ]
    }
   ],
   "source": [
    "jsonopendetail('C:/Users/t_tan\\Documents/GitHub/DATA_ENGINEER/data/github_events_04.json')"
   ]
  },
  {
   "cell_type": "code",
   "execution_count": 7,
   "metadata": {},
   "outputs": [
    {
     "name": "stdout",
     "output_type": "stream",
     "text": [
      "array of json object length :  30\n",
      "1st json object length :  8\n",
      "1st json object data type :  <class 'dict'>\n",
      "keys in 1st json object :  dict_keys(['id', 'type', 'actor', 'repo', 'payload', 'public', 'created_at', 'org'])\n"
     ]
    }
   ],
   "source": [
    "jsonopendetail('C:/Users/t_tan\\Documents/GitHub/DATA_ENGINEER/data/github_events_05.json')"
   ]
  },
  {
   "cell_type": "code",
   "execution_count": 8,
   "metadata": {},
   "outputs": [
    {
     "name": "stdout",
     "output_type": "stream",
     "text": [
      "<class 'list'>\n"
     ]
    }
   ],
   "source": [
    "with open('C:/Users/t_tan\\Documents/GitHub/DATA_ENGINEER/data/github_events_01.json') as f:\n",
    "    # print(type(f.read()))\n",
    "    data_read = json.loads(f.read())\n",
    "    print(type(data_read))\n",
    "    # print(type(json.load(f)))"
   ]
  },
  {
   "cell_type": "code",
   "execution_count": 9,
   "metadata": {},
   "outputs": [],
   "source": [
    "with open('C:/Users/t_tan\\Documents/GitHub/DATA_ENGINEER/data/github_events_01.json') as f:\n",
    "    data = json.load(f)"
   ]
  },
  {
   "cell_type": "code",
   "execution_count": 10,
   "metadata": {},
   "outputs": [
    {
     "name": "stdout",
     "output_type": "stream",
     "text": [
      "False\n",
      "False\n",
      "True\n",
      "True\n",
      "True\n",
      "False\n",
      "False\n",
      "True\n"
     ]
    }
   ],
   "source": [
    "for i in data[0].values():\n",
    "    if type(i) == dict:\n",
    "        print('True')\n",
    "    else:\n",
    "        print('False')"
   ]
  },
  {
   "cell_type": "code",
   "execution_count": 11,
   "metadata": {},
   "outputs": [
    {
     "name": "stdout",
     "output_type": "stream",
     "text": [
      "['IssueCommentEvent', 'PushEvent', 'PushEvent', 'PushEvent', 'PushEvent', 'PushEvent', 'PushEvent', 'CreateEvent', 'IssuesEvent', 'PushEvent', 'PushEvent', 'PushEvent', 'PushEvent', 'PushEvent', 'IssueCommentEvent', 'ReleaseEvent', 'PushEvent', 'PushEvent', 'DeleteEvent', 'PushEvent', 'PushEvent', 'PushEvent', 'CreateEvent', 'PushEvent', 'DeleteEvent', 'PushEvent', 'PushEvent', 'PushEvent', 'IssuesEvent', 'IssueCommentEvent']\n",
      "30\n",
      "{'PushEvent', 'ReleaseEvent', 'IssueCommentEvent', 'IssuesEvent', 'CreateEvent', 'DeleteEvent'}\n",
      "6\n"
     ]
    }
   ],
   "source": [
    "type_cat = [sub['type'] for sub in data]\n",
    "print(type_cat)\n",
    "print(len(type_cat))\n",
    "print(set(type_cat))\n",
    "print(len(set(type_cat)))"
   ]
  },
  {
   "cell_type": "code",
   "execution_count": 12,
   "metadata": {},
   "outputs": [
    {
     "data": {
      "text/plain": [
       "['action', 'issue', 'comment']"
      ]
     },
     "execution_count": 12,
     "metadata": {},
     "output_type": "execute_result"
    }
   ],
   "source": [
    "list(data[0]['payload'].keys())"
   ]
  },
  {
   "cell_type": "code",
   "execution_count": 13,
   "metadata": {},
   "outputs": [
    {
     "name": "stdout",
     "output_type": "stream",
     "text": [
      "30\n",
      "{'id': 1696078, 'login': 'sukhada', 'display_login': 'sukhada', 'gravatar_id': '', 'url': 'https://api.github.com/users/sukhada', 'avatar_url': 'https://avatars.githubusercontent.com/u/1696078?'}\n"
     ]
    }
   ],
   "source": [
    "actor_cat = [sub['actor'] for sub in data]\n",
    "print(len(actor_cat))\n",
    "print((actor_cat[0]))\n",
    "\n"
   ]
  },
  {
   "cell_type": "code",
   "execution_count": 14,
   "metadata": {},
   "outputs": [
    {
     "name": "stdout",
     "output_type": "stream",
     "text": [
      "30\n"
     ]
    }
   ],
   "source": [
    "payload_cat = [sub['payload'] for sub in data]\n",
    "print(len(payload_cat))\n",
    "# print((payload_cat[0]))\n",
    "# print((set(payload_cat))) # no reduplicated\n"
   ]
  },
  {
   "cell_type": "code",
   "execution_count": 15,
   "metadata": {},
   "outputs": [
    {
     "name": "stdout",
     "output_type": "stream",
     "text": [
      "30\n",
      "[True, True, True, True, True, True, True, True, True, True, True, True, True, True, True, True, True, True, True, True, True, True, True, True, True, True, True, True, True, True]\n",
      "{True}\n"
     ]
    }
   ],
   "source": [
    "public_cat = [sub['public'] for sub in data]\n",
    "print(len(public_cat))\n",
    "print((public_cat))\n",
    "print((set(public_cat))) "
   ]
  },
  {
   "cell_type": "code",
   "execution_count": 16,
   "metadata": {},
   "outputs": [
    {
     "name": "stdout",
     "output_type": "stream",
     "text": [
      "30\n",
      "['2022-08-17T15:51:05Z', '2022-08-17T15:51:05Z', '2022-08-17T15:51:05Z', '2022-08-17T15:51:05Z', '2022-08-17T15:51:05Z', '2022-08-17T15:51:05Z', '2022-08-17T15:51:05Z', '2022-08-17T15:51:05Z', '2022-08-17T15:51:05Z', '2022-08-17T15:51:05Z', '2022-08-17T15:51:05Z', '2022-08-17T15:51:05Z', '2022-08-17T15:51:04Z', '2022-08-17T15:51:05Z', '2022-08-17T15:51:05Z', '2022-08-17T15:51:05Z', '2022-08-17T15:51:05Z', '2022-08-17T15:51:05Z', '2022-08-17T15:51:05Z', '2022-08-17T15:51:05Z', '2022-08-17T15:51:05Z', '2022-08-17T15:51:05Z', '2022-08-17T15:51:05Z', '2022-08-17T15:51:05Z', '2022-08-17T15:51:05Z', '2022-08-17T15:51:05Z', '2022-08-17T15:51:05Z', '2022-08-17T15:51:05Z', '2022-08-17T15:51:05Z', '2022-08-17T15:51:05Z']\n",
      "{'2022-08-17T15:51:04Z', '2022-08-17T15:51:05Z'}\n"
     ]
    }
   ],
   "source": [
    "\n",
    "created_at_cat = [sub['created_at'] for sub in data]\n",
    "print(len(created_at_cat))\n",
    "print((created_at_cat))\n",
    "print((set(created_at_cat))) "
   ]
  },
  {
   "cell_type": "code",
   "execution_count": 17,
   "metadata": {},
   "outputs": [
    {
     "name": "stdout",
     "output_type": "stream",
     "text": [
      "30\n",
      "(0, {'id': 24305026, 'login': '350org', 'gravatar_id': '', 'url': 'https://api.github.com/orgs/350org', 'avatar_url': 'https://avatars.githubusercontent.com/u/24305026?'})\n",
      "(1, None)\n",
      "(2, {'id': 106303238, 'login': 'morpho-dao', 'gravatar_id': '', 'url': 'https://api.github.com/orgs/morpho-dao', 'avatar_url': 'https://avatars.githubusercontent.com/u/106303238?'})\n",
      "(3, None)\n",
      "(4, None)\n",
      "(5, None)\n",
      "(6, {'id': 66193563, 'login': 'dendronhq', 'gravatar_id': '', 'url': 'https://api.github.com/orgs/dendronhq', 'avatar_url': 'https://avatars.githubusercontent.com/u/66193563?'})\n",
      "(7, None)\n",
      "(8, None)\n",
      "(9, None)\n",
      "(10, None)\n",
      "(11, None)\n",
      "(12, {'id': 93807059, 'login': 'Sooktoring', 'gravatar_id': '', 'url': 'https://api.github.com/orgs/Sooktoring', 'avatar_url': 'https://avatars.githubusercontent.com/u/93807059?'})\n",
      "(13, None)\n",
      "(14, {'id': 25355022, 'login': 'livepeer', 'gravatar_id': '', 'url': 'https://api.github.com/orgs/livepeer', 'avatar_url': 'https://avatars.githubusercontent.com/u/25355022?'})\n",
      "(15, None)\n",
      "(16, None)\n",
      "(17, None)\n",
      "(18, {'id': 56742327, 'login': 'product-os', 'gravatar_id': '', 'url': 'https://api.github.com/orgs/product-os', 'avatar_url': 'https://avatars.githubusercontent.com/u/56742327?'})\n",
      "(19, None)\n",
      "(20, None)\n",
      "(21, None)\n",
      "(22, None)\n",
      "(23, {'id': 108262640, 'login': 'web-application-app', 'gravatar_id': '', 'url': 'https://api.github.com/orgs/web-application-app', 'avatar_url': 'https://avatars.githubusercontent.com/u/108262640?'})\n",
      "(24, None)\n",
      "(25, None)\n",
      "(26, None)\n",
      "(27, None)\n",
      "(28, None)\n",
      "(29, {'id': 60207193, 'login': 'stolostron', 'gravatar_id': '', 'url': 'https://api.github.com/orgs/stolostron', 'avatar_url': 'https://avatars.githubusercontent.com/u/60207193?'})\n"
     ]
    }
   ],
   "source": [
    "org_cat = [ sub.get('org') for sub in data ]\n",
    "print(len(org_cat))\n",
    "print(*[*enumerate(org_cat)], sep = \"\\n\")\n",
    "# print((org_cat))\n",
    "# print((set(org_cat))) "
   ]
  },
  {
   "cell_type": "code",
   "execution_count": 18,
   "metadata": {},
   "outputs": [
    {
     "name": "stdout",
     "output_type": "stream",
     "text": [
      "None\n"
     ]
    }
   ],
   "source": [
    "print(data[3].get('org'))\n"
   ]
  },
  {
   "cell_type": "code",
   "execution_count": 19,
   "metadata": {},
   "outputs": [
    {
     "name": "stdout",
     "output_type": "stream",
     "text": [
      "30\n",
      "{'id': 75340147, 'name': '350org/ak_intl_v3', 'url': 'https://api.github.com/repos/350org/ak_intl_v3'}\n",
      "{'id': 525526680, 'name': 'yousabu/ansible_rhce', 'url': 'https://api.github.com/repos/yousabu/ansible_rhce'}\n",
      "{'id': 512700417, 'name': 'morpho-dao/morpho-utils', 'url': 'https://api.github.com/repos/morpho-dao/morpho-utils'}\n",
      "{'id': 525851446, 'name': 'BR-Junior/crud-com-vue-e-quasar', 'url': 'https://api.github.com/repos/BR-Junior/crud-com-vue-e-quasar'}\n",
      "{'id': 505029866, 'name': 'predictcrypto/pins', 'url': 'https://api.github.com/repos/predictcrypto/pins'}\n",
      "{'id': 525845306, 'name': 'kazukimikami/reservation', 'url': 'https://api.github.com/repos/kazukimikami/reservation'}\n",
      "{'id': 274724694, 'name': 'dendronhq/dendron', 'url': 'https://api.github.com/repos/dendronhq/dendron'}\n",
      "{'id': 523780252, 'name': 'tiller1010/silverstripe-spam-module', 'url': 'https://api.github.com/repos/tiller1010/silverstripe-spam-module'}\n",
      "{'id': 524701461, 'name': 'sozysozbot/mikanos', 'url': 'https://api.github.com/repos/sozysozbot/mikanos'}\n"
     ]
    }
   ],
   "source": [
    "repo_cat = [sub['repo'] for sub in data]\n",
    "print(len(repo_cat))\n",
    "print(*repo_cat[:9], sep= '\\n')\n",
    "# print(type(set(type_cat)))"
   ]
  },
  {
   "cell_type": "code",
   "execution_count": 20,
   "metadata": {},
   "outputs": [
    {
     "data": {
      "text/plain": [
       "dict_keys(['action', 'issue', 'comment'])"
      ]
     },
     "execution_count": 20,
     "metadata": {},
     "output_type": "execute_result"
    }
   ],
   "source": [
    "data[0]['payload'].keys()"
   ]
  },
  {
   "cell_type": "code",
   "execution_count": 21,
   "metadata": {},
   "outputs": [
    {
     "data": {
      "text/plain": [
       "'created'"
      ]
     },
     "execution_count": 21,
     "metadata": {},
     "output_type": "execute_result"
    }
   ],
   "source": [
    "data[0]['payload']['action']"
   ]
  },
  {
   "cell_type": "code",
   "execution_count": 22,
   "metadata": {},
   "outputs": [
    {
     "name": "stdout",
     "output_type": "stream",
     "text": [
      "28\n"
     ]
    },
    {
     "data": {
      "text/plain": [
       "dict_keys(['url', 'repository_url', 'labels_url', 'comments_url', 'events_url', 'html_url', 'id', 'node_id', 'number', 'title', 'user', 'labels', 'state', 'locked', 'assignee', 'assignees', 'milestone', 'comments', 'created_at', 'updated_at', 'closed_at', 'author_association', 'active_lock_reason', 'body', 'reactions', 'timeline_url', 'performed_via_github_app', 'state_reason'])"
      ]
     },
     "execution_count": 22,
     "metadata": {},
     "output_type": "execute_result"
    }
   ],
   "source": [
    "print(len(data[0]['payload']['issue'].keys()))\n",
    "data[0]['payload']['issue'].keys()"
   ]
  },
  {
   "cell_type": "code",
   "execution_count": 23,
   "metadata": {},
   "outputs": [
    {
     "name": "stdout",
     "output_type": "stream",
     "text": [
      "12\n"
     ]
    },
    {
     "data": {
      "text/plain": [
       "dict_keys(['url', 'html_url', 'issue_url', 'id', 'node_id', 'user', 'created_at', 'updated_at', 'author_association', 'body', 'reactions', 'performed_via_github_app'])"
      ]
     },
     "execution_count": 23,
     "metadata": {},
     "output_type": "execute_result"
    }
   ],
   "source": [
    "print(len(data[0]['payload']['comment'].keys()))\n",
    "data[0]['payload']['comment'].keys()"
   ]
  },
  {
   "cell_type": "code",
   "execution_count": 24,
   "metadata": {},
   "outputs": [
    {
     "name": "stdout",
     "output_type": "stream",
     "text": [
      "['created', None, None, None, None, None, None, None, 'opened', None, None, None, None, None, 'created', 'published', None, None, None, None, None, None, None, None, None, None, None, None, 'closed', 'created']\n",
      "{'push_id': 10754961780, 'size': 1, 'distinct_size': 1, 'ref': 'refs/heads/main', 'head': 'fcb12564e97f771895e044810d07064651df1e1c', 'before': '2b5551de546e3e22a10ddf976cb95443e646bac4', 'commits': [{'sha': 'fcb12564e97f771895e044810d07064651df1e1c', 'author': {'email': 'shbanmhmdywsf8@gmail.com', 'name': 'youssef'}, 'message': 'ok', 'distinct': True, 'url': 'https://api.github.com/repos/yousabu/ansible_rhce/commits/fcb12564e97f771895e044810d07064651df1e1c'}]}\n",
      "{'push_id': 10754961752, 'size': 1, 'distinct_size': 1, 'ref': 'refs/heads/perf/percentage-math-1', 'head': '29179813f484fa3229c1d3c99eb044569c52f36f', 'before': 'cd63e376c5cb2dde66b6ce5f28d97cfb70efe881', 'commits': [{'sha': '29179813f484fa3229c1d3c99eb044569c52f36f', 'author': {'email': '74971347+MathisGD@users.noreply.github.com', 'name': 'Mathis Gontier Delaunay'}, 'message': 'doc: minor fix\\n\\nCo-authored-by: Quentin Garchery <QGarchery@users.noreply.github.com>', 'distinct': True, 'url': 'https://api.github.com/repos/morpho-dao/morpho-utils/commits/29179813f484fa3229c1d3c99eb044569c52f36f'}]}\n",
      "{'push_id': 10754961791, 'size': 1, 'distinct_size': 1, 'ref': 'refs/heads/master', 'head': '23636ea3027a92830f847c98ef3c27ef656fe522', 'before': 'd1bf09c7f854d9b4e048631b1fe73d468d73a950', 'commits': [{'sha': '23636ea3027a92830f847c98ef3c27ef656fe522', 'author': {'email': 'bianor.tech@gmail.com', 'name': 'Bianor Ramos'}, 'message': 'delete', 'distinct': True, 'url': 'https://api.github.com/repos/BR-Junior/crud-com-vue-e-quasar/commits/23636ea3027a92830f847c98ef3c27ef656fe522'}]}\n",
      "{'push_id': 10754961801, 'size': 1, 'distinct_size': 1, 'ref': 'refs/heads/master', 'head': '5c41a4cf255e4d580f14b8bd79a9fddde93e40a9', 'before': '3b64cddb09eae3534ee4647a71497e68fab5ff79', 'commits': [{'sha': '5c41a4cf255e4d580f14b8bd79a9fddde93e40a9', 'author': {'email': '60825784+predictcrypto@users.noreply.github.com', 'name': 'predictcrypto'}, 'message': 'update data_name_service_transfers_latest', 'distinct': True, 'url': 'https://api.github.com/repos/predictcrypto/pins/commits/5c41a4cf255e4d580f14b8bd79a9fddde93e40a9'}]}\n",
      "{'push_id': 10754961758, 'size': 1, 'distinct_size': 1, 'ref': 'refs/heads/master', 'head': '6d47573e1599de68a3ab575bda67626335c7d8ed', 'before': '5545c93a5c3c7a40254f0644a0033627782589e9', 'commits': [{'sha': '6d47573e1599de68a3ab575bda67626335c7d8ed', 'author': {'email': 'kazuki.mikami@devenues.com', 'name': 'Kazuki Mikami'}, 'message': 'トップページ修正', 'distinct': True, 'url': 'https://api.github.com/repos/kazukimikami/reservation/commits/6d47573e1599de68a3ab575bda67626335c7d8ed'}]}\n",
      "{'push_id': 10754961749, 'size': 1, 'distinct_size': 1, 'ref': 'refs/heads/all-contributors/add-HenryC-3', 'head': 'd13ed37560f412b928d3ab241612f8b0f7a06312', 'before': 'cbe35fd0638d80e31e02bfeff143d40979adff09', 'commits': [{'sha': 'd13ed37560f412b928d3ab241612f8b0f7a06312', 'author': {'email': '46447321+allcontributors[bot]@users.noreply.github.com', 'name': 'allcontributors[bot]'}, 'message': 'docs: update .all-contributorsrc [skip ci]', 'distinct': True, 'url': 'https://api.github.com/repos/dendronhq/dendron/commits/d13ed37560f412b928d3ab241612f8b0f7a06312'}]}\n",
      "{'ref': '1.3.7', 'ref_type': 'tag', 'master_branch': 'main', 'description': 'Spam Module using Honeypot and Timer fields', 'pusher_type': 'user'}\n",
      "{'action': 'opened', 'issue': {'url': 'https://api.github.com/repos/sozysozbot/mikanos/issues/7', 'repository_url': 'https://api.github.com/repos/sozysozbot/mikanos', 'labels_url': 'https://api.github.com/repos/sozysozbot/mikanos/issues/7/labels{/name}', 'comments_url': 'https://api.github.com/repos/sozysozbot/mikanos/issues/7/comments', 'events_url': 'https://api.github.com/repos/sozysozbot/mikanos/issues/7/events', 'html_url': 'https://github.com/sozysozbot/mikanos/issues/7', 'id': 1341973152, 'node_id': 'I_kwDOH0ZPFc5P_OKg', 'number': 7, 'title': 'シェル言語のリパライン語性を上げていく', 'user': {'login': 'sozysozbot', 'id': 21972349, 'node_id': 'MDQ6VXNlcjIxOTcyMzQ5', 'avatar_url': 'https://avatars.githubusercontent.com/u/21972349?v=4', 'gravatar_id': '', 'url': 'https://api.github.com/users/sozysozbot', 'html_url': 'https://github.com/sozysozbot', 'followers_url': 'https://api.github.com/users/sozysozbot/followers', 'following_url': 'https://api.github.com/users/sozysozbot/following{/other_user}', 'gists_url': 'https://api.github.com/users/sozysozbot/gists{/gist_id}', 'starred_url': 'https://api.github.com/users/sozysozbot/starred{/owner}{/repo}', 'subscriptions_url': 'https://api.github.com/users/sozysozbot/subscriptions', 'organizations_url': 'https://api.github.com/users/sozysozbot/orgs', 'repos_url': 'https://api.github.com/users/sozysozbot/repos', 'events_url': 'https://api.github.com/users/sozysozbot/events{/privacy}', 'received_events_url': 'https://api.github.com/users/sozysozbot/received_events', 'type': 'User', 'site_admin': False}, 'labels': [], 'state': 'open', 'locked': False, 'assignee': None, 'assignees': [], 'milestone': None, 'comments': 0, 'created_at': '2022-08-17T15:51:05Z', 'updated_at': '2022-08-17T15:51:05Z', 'closed_at': None, 'author_association': 'OWNER', 'active_lock_reason': None, 'body': None, 'reactions': {'url': 'https://api.github.com/repos/sozysozbot/mikanos/issues/7/reactions', 'total_count': 0, '+1': 0, '-1': 0, 'laugh': 0, 'hooray': 0, 'confused': 0, 'heart': 0, 'rocket': 0, 'eyes': 0}, 'timeline_url': 'https://api.github.com/repos/sozysozbot/mikanos/issues/7/timeline', 'performed_via_github_app': None, 'state_reason': None}}\n",
      "{'push_id': 10754961756, 'size': 1, 'distinct_size': 1, 'ref': 'refs/heads/master', 'head': 'cb2e7db3cdf0e62590abcaf475aabea3743aa107', 'before': 'f6a6c36956487a5726b29fcd1387cda6001d36e8', 'commits': [{'sha': 'cb2e7db3cdf0e62590abcaf475aabea3743aa107', 'author': {'email': 'neoxtl@outlook.com', 'name': 'moiify'}, 'message': 'A commit a day keeps the girlfriend away.', 'distinct': True, 'url': 'https://api.github.com/repos/moiify/AutoGreen/commits/cb2e7db3cdf0e62590abcaf475aabea3743aa107'}]}\n",
      "dict_keys(['push_id', 'size', 'distinct_size', 'ref', 'head', 'before', 'commits'])\n"
     ]
    }
   ],
   "source": [
    "payload_action = [sub.get('payload') for sub in data]\n",
    "# print(*payload_action, sep=\"\\n\")\n",
    "payload_action_find = [sub1.get('action') for sub1 in payload_action]\n",
    "print(payload_action_find)\n",
    "# for i in payload_action:\n",
    "#     print(i.get('action'))\n",
    "print(*payload_action[1:10], sep= \"\\n\")\n",
    "print(payload_action[1].keys())\n",
    "\n"
   ]
  },
  {
   "cell_type": "code",
   "execution_count": 32,
   "metadata": {},
   "outputs": [
    {
     "data": {
      "text/plain": [
       "[None,\n",
       " 'refs/heads/main',\n",
       " 'refs/heads/perf/percentage-math-1',\n",
       " 'refs/heads/master',\n",
       " 'refs/heads/master',\n",
       " 'refs/heads/master',\n",
       " 'refs/heads/all-contributors/add-HenryC-3',\n",
       " '1.3.7',\n",
       " None,\n",
       " 'refs/heads/master',\n",
       " 'refs/heads/master',\n",
       " 'refs/heads/604-qute-resolve',\n",
       " 'refs/heads/main',\n",
       " 'refs/heads/main',\n",
       " None,\n",
       " None,\n",
       " 'refs/heads/main',\n",
       " 'refs/heads/main',\n",
       " 'renovate/balena-jellyfish-metrics-2.x-build-6f329d45d27d5a0a708d6cc7c91e8ead4eea1156',\n",
       " 'refs/heads/master',\n",
       " 'refs/heads/main',\n",
       " 'refs/heads/master',\n",
       " None,\n",
       " 'refs/heads/inon',\n",
       " 'header',\n",
       " 'refs/heads/master',\n",
       " 'refs/heads/master',\n",
       " 'refs/heads/main',\n",
       " None,\n",
       " None]"
      ]
     },
     "execution_count": 32,
     "metadata": {},
     "output_type": "execute_result"
    }
   ],
   "source": [
    "[sub.get('payload').get(\"ref\") for sub in data]"
   ]
  },
  {
   "cell_type": "code",
   "execution_count": 25,
   "metadata": {},
   "outputs": [
    {
     "name": "stdout",
     "output_type": "stream",
     "text": [
      "<class 'list'>\n",
      "[('action', 'issue', 'comment'), ('push_id', 'size', 'distinct_size', 'ref', 'head', 'before', 'commits'), ('push_id', 'size', 'distinct_size', 'ref', 'head', 'before', 'commits'), ('push_id', 'size', 'distinct_size', 'ref', 'head', 'before', 'commits'), ('push_id', 'size', 'distinct_size', 'ref', 'head', 'before', 'commits'), ('push_id', 'size', 'distinct_size', 'ref', 'head', 'before', 'commits'), ('push_id', 'size', 'distinct_size', 'ref', 'head', 'before', 'commits'), ('ref', 'ref_type', 'master_branch', 'description', 'pusher_type'), ('action', 'issue'), ('push_id', 'size', 'distinct_size', 'ref', 'head', 'before', 'commits'), ('push_id', 'size', 'distinct_size', 'ref', 'head', 'before', 'commits'), ('push_id', 'size', 'distinct_size', 'ref', 'head', 'before', 'commits'), ('push_id', 'size', 'distinct_size', 'ref', 'head', 'before', 'commits'), ('push_id', 'size', 'distinct_size', 'ref', 'head', 'before', 'commits'), ('action', 'issue', 'comment'), ('action', 'release'), ('push_id', 'size', 'distinct_size', 'ref', 'head', 'before', 'commits'), ('push_id', 'size', 'distinct_size', 'ref', 'head', 'before', 'commits'), ('ref', 'ref_type', 'pusher_type'), ('push_id', 'size', 'distinct_size', 'ref', 'head', 'before', 'commits'), ('push_id', 'size', 'distinct_size', 'ref', 'head', 'before', 'commits'), ('push_id', 'size', 'distinct_size', 'ref', 'head', 'before', 'commits'), ('ref', 'ref_type', 'master_branch', 'description', 'pusher_type'), ('push_id', 'size', 'distinct_size', 'ref', 'head', 'before', 'commits'), ('ref', 'ref_type', 'pusher_type'), ('push_id', 'size', 'distinct_size', 'ref', 'head', 'before', 'commits'), ('push_id', 'size', 'distinct_size', 'ref', 'head', 'before', 'commits'), ('push_id', 'size', 'distinct_size', 'ref', 'head', 'before', 'commits'), ('action', 'issue'), ('action', 'issue', 'comment')]\n",
      "\n",
      "\n"
     ]
    },
    {
     "data": {
      "text/plain": [
       "{('action', 'issue'),\n",
       " ('action', 'issue', 'comment'),\n",
       " ('action', 'release'),\n",
       " ('push_id', 'size', 'distinct_size', 'ref', 'head', 'before', 'commits'),\n",
       " ('ref', 'ref_type', 'master_branch', 'description', 'pusher_type'),\n",
       " ('ref', 'ref_type', 'pusher_type')}"
      ]
     },
     "execution_count": 25,
     "metadata": {},
     "output_type": "execute_result"
    }
   ],
   "source": [
    "payload_alldicts = [sub.get('payload') for sub in data]\n",
    "payload_forEDA = [ddd for ddd in payload_alldicts]\n",
    "payload_allkeysinside = [tuple(ddd.keys()) for ddd in payload_alldicts]\n",
    "print(type(payload_allkeysinside))\n",
    "print((payload_allkeysinside))\n",
    "print(\"\\n\")\n",
    "set(payload_allkeysinside)\n",
    "# print(set(tuple(payload_allkeysinside)))\n",
    "# we can not use set() in list of list \n",
    "# from stackoverflow : list is mutable ==> change to tuple to be immutable then we can use set()\n",
    "\n"
   ]
  },
  {
   "cell_type": "code",
   "execution_count": 26,
   "metadata": {},
   "outputs": [
    {
     "data": {
      "text/plain": [
       "[None,\n",
       " 10754961780,\n",
       " 10754961752,\n",
       " 10754961791,\n",
       " 10754961801,\n",
       " 10754961758,\n",
       " 10754961749,\n",
       " None,\n",
       " None,\n",
       " 10754961756,\n",
       " 10754961711,\n",
       " 10754961719,\n",
       " 10754961628,\n",
       " 10754961739,\n",
       " None,\n",
       " None,\n",
       " 10754961710,\n",
       " 10754961692,\n",
       " None,\n",
       " 10754961709,\n",
       " 10754961686,\n",
       " 10754961707,\n",
       " None,\n",
       " 10754961663,\n",
       " None,\n",
       " 10754961638,\n",
       " 10754961680,\n",
       " 10754961682,\n",
       " None,\n",
       " None]"
      ]
     },
     "execution_count": 26,
     "metadata": {},
     "output_type": "execute_result"
    }
   ],
   "source": [
    "# payload_forEDA\n",
    "[ddd.get('push_id') for ddd in payload_alldicts]"
   ]
  },
  {
   "cell_type": "code",
   "execution_count": 27,
   "metadata": {},
   "outputs": [
    {
     "data": {
      "text/plain": [
       "[{'id': 24305026,\n",
       "  'login': '350org',\n",
       "  'gravatar_id': '',\n",
       "  'url': 'https://api.github.com/orgs/350org',\n",
       "  'avatar_url': 'https://avatars.githubusercontent.com/u/24305026?'},\n",
       " None,\n",
       " {'id': 106303238,\n",
       "  'login': 'morpho-dao',\n",
       "  'gravatar_id': '',\n",
       "  'url': 'https://api.github.com/orgs/morpho-dao',\n",
       "  'avatar_url': 'https://avatars.githubusercontent.com/u/106303238?'},\n",
       " None,\n",
       " None,\n",
       " None,\n",
       " {'id': 66193563,\n",
       "  'login': 'dendronhq',\n",
       "  'gravatar_id': '',\n",
       "  'url': 'https://api.github.com/orgs/dendronhq',\n",
       "  'avatar_url': 'https://avatars.githubusercontent.com/u/66193563?'},\n",
       " None,\n",
       " None,\n",
       " None,\n",
       " None,\n",
       " None,\n",
       " {'id': 93807059,\n",
       "  'login': 'Sooktoring',\n",
       "  'gravatar_id': '',\n",
       "  'url': 'https://api.github.com/orgs/Sooktoring',\n",
       "  'avatar_url': 'https://avatars.githubusercontent.com/u/93807059?'},\n",
       " None,\n",
       " {'id': 25355022,\n",
       "  'login': 'livepeer',\n",
       "  'gravatar_id': '',\n",
       "  'url': 'https://api.github.com/orgs/livepeer',\n",
       "  'avatar_url': 'https://avatars.githubusercontent.com/u/25355022?'},\n",
       " None,\n",
       " None,\n",
       " None,\n",
       " {'id': 56742327,\n",
       "  'login': 'product-os',\n",
       "  'gravatar_id': '',\n",
       "  'url': 'https://api.github.com/orgs/product-os',\n",
       "  'avatar_url': 'https://avatars.githubusercontent.com/u/56742327?'},\n",
       " None,\n",
       " None,\n",
       " None,\n",
       " None,\n",
       " {'id': 108262640,\n",
       "  'login': 'web-application-app',\n",
       "  'gravatar_id': '',\n",
       "  'url': 'https://api.github.com/orgs/web-application-app',\n",
       "  'avatar_url': 'https://avatars.githubusercontent.com/u/108262640?'},\n",
       " None,\n",
       " None,\n",
       " None,\n",
       " None,\n",
       " None,\n",
       " {'id': 60207193,\n",
       "  'login': 'stolostron',\n",
       "  'gravatar_id': '',\n",
       "  'url': 'https://api.github.com/orgs/stolostron',\n",
       "  'avatar_url': 'https://avatars.githubusercontent.com/u/60207193?'}]"
      ]
     },
     "execution_count": 27,
     "metadata": {},
     "output_type": "execute_result"
    }
   ],
   "source": [
    "[(sub.get('org')) for sub in data ]"
   ]
  },
  {
   "cell_type": "code",
   "execution_count": 28,
   "metadata": {},
   "outputs": [
    {
     "name": "stdout",
     "output_type": "stream",
     "text": [
      "8\n"
     ]
    },
    {
     "data": {
      "text/plain": [
       "[24305026,\n",
       " 106303238,\n",
       " 66193563,\n",
       " 93807059,\n",
       " 25355022,\n",
       " 56742327,\n",
       " 108262640,\n",
       " 60207193]"
      ]
     },
     "execution_count": 28,
     "metadata": {},
     "output_type": "execute_result"
    }
   ],
   "source": [
    "print(len([(sub.get('org'))['id'] for sub in data if (sub.get('org')) != None]))\n",
    "[(sub.get('org'))['id'] for sub in data if (sub.get('org')) != None]"
   ]
  },
  {
   "cell_type": "code",
   "execution_count": 29,
   "metadata": {},
   "outputs": [
    {
     "name": "stdout",
     "output_type": "stream",
     "text": [
      "{'id': 24305026, 'login': '350org', 'gravatar_id': '', 'url': 'https://api.github.com/orgs/350org', 'avatar_url': 'https://avatars.githubusercontent.com/u/24305026?'}\n",
      "{'id': 106303238, 'login': 'morpho-dao', 'gravatar_id': '', 'url': 'https://api.github.com/orgs/morpho-dao', 'avatar_url': 'https://avatars.githubusercontent.com/u/106303238?'}\n",
      "{'id': 66193563, 'login': 'dendronhq', 'gravatar_id': '', 'url': 'https://api.github.com/orgs/dendronhq', 'avatar_url': 'https://avatars.githubusercontent.com/u/66193563?'}\n",
      "{'id': 93807059, 'login': 'Sooktoring', 'gravatar_id': '', 'url': 'https://api.github.com/orgs/Sooktoring', 'avatar_url': 'https://avatars.githubusercontent.com/u/93807059?'}\n",
      "{'id': 25355022, 'login': 'livepeer', 'gravatar_id': '', 'url': 'https://api.github.com/orgs/livepeer', 'avatar_url': 'https://avatars.githubusercontent.com/u/25355022?'}\n",
      "{'id': 56742327, 'login': 'product-os', 'gravatar_id': '', 'url': 'https://api.github.com/orgs/product-os', 'avatar_url': 'https://avatars.githubusercontent.com/u/56742327?'}\n",
      "{'id': 108262640, 'login': 'web-application-app', 'gravatar_id': '', 'url': 'https://api.github.com/orgs/web-application-app', 'avatar_url': 'https://avatars.githubusercontent.com/u/108262640?'}\n",
      "{'id': 60207193, 'login': 'stolostron', 'gravatar_id': '', 'url': 'https://api.github.com/orgs/stolostron', 'avatar_url': 'https://avatars.githubusercontent.com/u/60207193?'}\n"
     ]
    }
   ],
   "source": [
    "for i in [(sub.get('org')) for sub in data if (sub.get('org')) != None]:\n",
    "    print(i)"
   ]
  },
  {
   "cell_type": "code",
   "execution_count": 30,
   "metadata": {},
   "outputs": [
    {
     "name": "stdout",
     "output_type": "stream",
     "text": [
      "[24305026, 106303238, 66193563, 93807059, 25355022, 56742327, 108262640, 60207193]\n"
     ]
    }
   ],
   "source": [
    "print([(sub.get('org').get('id')) for sub in data if (sub.get('org')) != None])"
   ]
  }
 ],
 "metadata": {
  "kernelspec": {
   "display_name": "Python 3.8.5 ('base')",
   "language": "python",
   "name": "python3"
  },
  "language_info": {
   "codemirror_mode": {
    "name": "ipython",
    "version": 3
   },
   "file_extension": ".py",
   "mimetype": "text/x-python",
   "name": "python",
   "nbconvert_exporter": "python",
   "pygments_lexer": "ipython3",
   "version": "3.8.5"
  },
  "orig_nbformat": 4,
  "vscode": {
   "interpreter": {
    "hash": "c80e916075a2b82094dca76813fb3e5fb73aa0d1a7cce80c36ca9677ad6ba624"
   }
  }
 },
 "nbformat": 4,
 "nbformat_minor": 2
}
